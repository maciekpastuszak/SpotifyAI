{
 "cells": [
  {
   "cell_type": "code",
   "execution_count": 1,
   "id": "7d36a64c",
   "metadata": {},
   "outputs": [],
   "source": [
    "import openai"
   ]
  },
  {
   "cell_type": "code",
   "execution_count": 2,
   "id": "dfac7c84",
   "metadata": {},
   "outputs": [],
   "source": [
    "from dotenv import dotenv_values"
   ]
  },
  {
   "cell_type": "code",
   "execution_count": 3,
   "id": "e73415f9",
   "metadata": {},
   "outputs": [],
   "source": [
    "config = dotenv_values(\".env\")"
   ]
  },
  {
   "cell_type": "code",
   "execution_count": 4,
   "id": "7078fd9f",
   "metadata": {
    "scrolled": true
   },
   "outputs": [],
   "source": [
    "openai.api_key = config[\"OPENAI_API_KEY\"]"
   ]
  },
  {
   "cell_type": "code",
   "execution_count": 8,
   "id": "aa77d5ac",
   "metadata": {},
   "outputs": [
    {
     "name": "stdout",
     "output_type": "stream",
     "text": [
      "Here's a list of super sad songs for your playlist:\n",
      "\n",
      "[\n",
      "  {\"song\": \"Everybody Hurts\", \"artist\": \"R.E.M.\"},\n",
      "  {\"song\": \"Nothing Compares 2 U\", \"artist\": \"Sinead O'Connor\"},\n",
      "  {\"song\": \"Hurt\", \"artist\": \"Johnny Cash\"},\n",
      "  {\"song\": \"Someone Like You\", \"artist\": \"Adele\"},\n",
      "  {\"song\": \"The Sound of Silence\", \"artist\": \"Simon & Garfunkel\"},\n",
      "  {\"song\": \"Yesterday\", \"artist\": \"The Beatles\"},\n",
      "  {\"song\": \"Tears In Heaven\", \"artist\": \"Eric Clapton\"},\n",
      "  {\"song\": \"Everybody's Got to Learn Sometime\", \"artist\": \"Beck\"},\n",
      "  {\"song\": \"I Will Remember You\", \"artist\": \"Sarah McLachlan\"},\n",
      "  {\"song\": \"My Heart Will Go On\", \"artist\": \"Celine Dion\"}\n",
      "]\n"
     ]
    }
   ],
   "source": [
    "messages = [\n",
    "    {\"role\": \"system\", \"content\": \"\"\"You are a helpful playlist generating assistant.\n",
    "    You should generate a list of songs and their artists according to a text prompt.\n",
    "    Ypu should return a JSON array, where each element follows this format: {\"song\": <song_title>, \"artist\": <artist_name>}\n",
    "    \"\"\"},\n",
    "    {\"role\": \"user\", \"content\": \"Generate a playlist of songs based on this prompt: super super sad songs\"}\n",
    "]\n",
    "\n",
    "res = openai.ChatCompletion.create(\n",
    "    messages=messages,\n",
    "    model=\"gpt-3.5-turbo\",\n",
    "    max_tokens=400\n",
    ")\n",
    "\n",
    "print(res[\"choices\"][0][\"message\"][\"content\"])"
   ]
  },
  {
   "cell_type": "code",
   "execution_count": null,
   "id": "568143f6",
   "metadata": {},
   "outputs": [],
   "source": []
  },
  {
   "cell_type": "code",
   "execution_count": null,
   "id": "db6738e4",
   "metadata": {},
   "outputs": [],
   "source": []
  }
 ],
 "metadata": {
  "kernelspec": {
   "display_name": "Python 3 (ipykernel)",
   "language": "python",
   "name": "python3"
  },
  "language_info": {
   "codemirror_mode": {
    "name": "ipython",
    "version": 3
   },
   "file_extension": ".py",
   "mimetype": "text/x-python",
   "name": "python",
   "nbconvert_exporter": "python",
   "pygments_lexer": "ipython3",
   "version": "3.11.3"
  }
 },
 "nbformat": 4,
 "nbformat_minor": 5
}
