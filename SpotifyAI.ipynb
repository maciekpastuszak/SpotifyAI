{
 "cells": [
  {
   "cell_type": "code",
   "execution_count": 7,
   "id": "7d36a64c",
   "metadata": {},
   "outputs": [],
   "source": [
    "import openai\n",
    "import json"
   ]
  },
  {
   "cell_type": "code",
   "execution_count": 8,
   "id": "dfac7c84",
   "metadata": {},
   "outputs": [],
   "source": [
    "from dotenv import dotenv_values"
   ]
  },
  {
   "cell_type": "code",
   "execution_count": 9,
   "id": "e73415f9",
   "metadata": {},
   "outputs": [],
   "source": [
    "config = dotenv_values(\".env\")"
   ]
  },
  {
   "cell_type": "code",
   "execution_count": 10,
   "id": "7078fd9f",
   "metadata": {
    "scrolled": true
   },
   "outputs": [],
   "source": [
    "openai.api_key = config[\"OPENAI_API_KEY\"]"
   ]
  },
  {
   "cell_type": "code",
   "execution_count": 11,
   "id": "aa77d5ac",
   "metadata": {},
   "outputs": [
    {
     "ename": "TypeError",
     "evalue": "string indices must be integers, not 'str'",
     "output_type": "error",
     "traceback": [
      "\u001b[0;31m---------------------------------------------------------------------------\u001b[0m",
      "\u001b[0;31mTypeError\u001b[0m                                 Traceback (most recent call last)",
      "Cell \u001b[0;32mIn[11], line 32\u001b[0m\n\u001b[1;32m     16\u001b[0m messages \u001b[38;5;241m=\u001b[39m [\n\u001b[1;32m     17\u001b[0m     {\u001b[38;5;124m\"\u001b[39m\u001b[38;5;124mrole\u001b[39m\u001b[38;5;124m\"\u001b[39m: \u001b[38;5;124m\"\u001b[39m\u001b[38;5;124msystem\u001b[39m\u001b[38;5;124m\"\u001b[39m, \u001b[38;5;124m\"\u001b[39m\u001b[38;5;124mcontent\u001b[39m\u001b[38;5;124m\"\u001b[39m: \u001b[38;5;124m\"\"\"\u001b[39m\u001b[38;5;124mYou are a helpful playlist generating assistant.\u001b[39m\n\u001b[1;32m     18\u001b[0m \u001b[38;5;124m    You should generate a list of songs and their artists according to a text prompt.\u001b[39m\n\u001b[0;32m   (...)\u001b[0m\n\u001b[1;32m     23\u001b[0m     {\u001b[38;5;124m\"\u001b[39m\u001b[38;5;124mrole\u001b[39m\u001b[38;5;124m\"\u001b[39m: \u001b[38;5;124m\"\u001b[39m\u001b[38;5;124muser\u001b[39m\u001b[38;5;124m\"\u001b[39m, \u001b[38;5;124m\"\u001b[39m\u001b[38;5;124mcontent\u001b[39m\u001b[38;5;124m\"\u001b[39m: \u001b[38;5;124m\"\u001b[39m\u001b[38;5;124mGenerate a playlist of songs based on this prompt: high energy exciting dance songs\u001b[39m\u001b[38;5;124m\"\u001b[39m},\n\u001b[1;32m     24\u001b[0m ]\n\u001b[1;32m     26\u001b[0m res \u001b[38;5;241m=\u001b[39m openai\u001b[38;5;241m.\u001b[39mChatCompletion\u001b[38;5;241m.\u001b[39mcreate(\n\u001b[1;32m     27\u001b[0m     messages\u001b[38;5;241m=\u001b[39mmessages,\n\u001b[1;32m     28\u001b[0m     model\u001b[38;5;241m=\u001b[39m\u001b[38;5;124m\"\u001b[39m\u001b[38;5;124mgpt-3.5-turbo\u001b[39m\u001b[38;5;124m\"\u001b[39m,\n\u001b[1;32m     29\u001b[0m     max_tokens\u001b[38;5;241m=\u001b[39m\u001b[38;5;241m400\u001b[39m\n\u001b[1;32m     30\u001b[0m )\n\u001b[0;32m---> 32\u001b[0m playlist \u001b[38;5;241m=\u001b[39m json\u001b[38;5;241m.\u001b[39mloads(\u001b[43m[\u001b[49m\u001b[38;5;124;43m\"\u001b[39;49m\u001b[38;5;124;43mchoices\u001b[39;49m\u001b[38;5;124;43m\"\u001b[39;49m\u001b[43m]\u001b[49m\u001b[43m[\u001b[49m\u001b[38;5;241;43m0\u001b[39;49m\u001b[43m]\u001b[49m\u001b[43m[\u001b[49m\u001b[38;5;124;43m\"\u001b[39;49m\u001b[38;5;124;43mmessage\u001b[39;49m\u001b[38;5;124;43m\"\u001b[39;49m\u001b[43m]\u001b[49m[\u001b[38;5;124m\"\u001b[39m\u001b[38;5;124mcontent\u001b[39m\u001b[38;5;124m\"\u001b[39m])\n\u001b[1;32m     33\u001b[0m \u001b[38;5;28mprint\u001b[39m(playlist)\n",
      "\u001b[0;31mTypeError\u001b[0m: string indices must be integers, not 'str'"
     ]
    }
   ],
   "source": [
    "example_json = \"\"\"\n",
    "[\n",
    "  {\"song\": \"Everybody Hurts\", \"artist\": \"R.E.M.\"},\n",
    "  {\"song\": \"Nothing Compares 2 U\", \"artist\": \"Sinead O'Connor\"},\n",
    "  {\"song\": \"Hurt\", \"artist\": \"Johnny Cash\"},\n",
    "  {\"song\": \"Someone Like You\", \"artist\": \"Adele\"},\n",
    "  {\"song\": \"The Sound of Silence\", \"artist\": \"Simon & Garfunkel\"},\n",
    "  {\"song\": \"Yesterday\", \"artist\": \"The Beatles\"},\n",
    "  {\"song\": \"Tears In Heaven\", \"artist\": \"Eric Clapton\"},\n",
    "  {\"song\": \"Everybody's Got to Learn Sometime\", \"artist\": \"Beck\"},\n",
    "  {\"song\": \"I Will Remember You\", \"artist\": \"Sarah McLachlan\"},\n",
    "  {\"song\": \"My Heart Will Go On\", \"artist\": \"Celine Dion\"}\n",
    "]\n",
    "\"\"\"\n",
    "\n",
    "messages = [\n",
    "    {\"role\": \"system\", \"content\": \"\"\"You are a helpful playlist generating assistant.\n",
    "    You should generate a list of songs and their artists according to a text prompt.\n",
    "    Ypu should return a JSON array, where each element follows this format: {\"song\": <song_title>, \"artist\": <artist_name>}\n",
    "    \"\"\"},\n",
    "    {\"role\": \"user\", \"content\": \"Generate a playlist of songs based on this prompt: super super sad songs\"},\n",
    "    {\"role\": \"assistant\", \"content\": example_json},\n",
    "    {\"role\": \"user\", \"content\": \"Generate a playlist of songs based on this prompt: high energy exciting dance songs\"},\n",
    "]\n",
    "\n",
    "res = openai.ChatCompletion.create(\n",
    "    messages=messages,\n",
    "    model=\"gpt-3.5-turbo\",\n",
    "    max_tokens=400\n",
    ")\n",
    "\n",
    "playlist = json.loads([\"choices\"][0][\"message\"][\"content\"])\n",
    "print(playlist)"
   ]
  },
  {
   "cell_type": "code",
   "execution_count": 12,
   "id": "568143f6",
   "metadata": {},
   "outputs": [],
   "source": [
    "def get_playlist(prompt):\n",
    "    example_json = \"\"\"\n",
    "    [\n",
    "      {\"song\": \"Everybody Hurts\", \"artist\": \"R.E.M.\"},\n",
    "      {\"song\": \"Nothing Compares 2 U\", \"artist\": \"Sinead O'Connor\"},\n",
    "      {\"song\": \"Hurt\", \"artist\": \"Johnny Cash\"},\n",
    "      {\"song\": \"Someone Like You\", \"artist\": \"Adele\"},\n",
    "      {\"song\": \"The Sound of Silence\", \"artist\": \"Simon & Garfunkel\"},\n",
    "      {\"song\": \"Yesterday\", \"artist\": \"The Beatles\"},\n",
    "      {\"song\": \"Tears In Heaven\", \"artist\": \"Eric Clapton\"},\n",
    "      {\"song\": \"Everybody's Got to Learn Sometime\", \"artist\": \"Beck\"},\n",
    "      {\"song\": \"I Will Remember You\", \"artist\": \"Sarah McLachlan\"},\n",
    "      {\"song\": \"My Heart Will Go On\", \"artist\": \"Celine Dion\"}\n",
    "    ]\n",
    "    \"\"\"\n",
    "\n",
    "    messages = [\n",
    "        {\"role\": \"system\", \"content\": \"\"\"You are a helpful playlist generating assistant.\n",
    "        You should generate a list of songs and their artists according to a text prompt.\n",
    "        Ypu should return a JSON array, where each element follows this format: {\"song\": <song_title>, \"artist\": <artist_name>}\n",
    "        \"\"\"},\n",
    "        {\"role\": \"user\", \"content\": \"Generate a playlist of songs based on this prompt: super super sad songs\"},\n",
    "        {\"role\": \"assistant\", \"content\": example_json},\n",
    "        {\"role\": \"user\", \"content\": f\"Generate a playlist of songs based on this prompt: {prompt}\"},\n",
    "    ]\n",
    "\n",
    "    res = openai.ChatCompletion.create(\n",
    "        messages=messages,\n",
    "        model=\"gpt-3.5-turbo\",\n",
    "        max_tokens=400\n",
    "    )\n",
    "    \n",
    "    json.loads(res[\"choices\"][0][\"message\"][\"content\"])"
   ]
  },
  {
   "cell_type": "code",
   "execution_count": null,
   "id": "db6738e4",
   "metadata": {},
   "outputs": [],
   "source": [
    "get_playlist(\"songs to drive at night to\")"
   ]
  }
 ],
 "metadata": {
  "kernelspec": {
   "display_name": "Python 3 (ipykernel)",
   "language": "python",
   "name": "python3"
  },
  "language_info": {
   "codemirror_mode": {
    "name": "ipython",
    "version": 3
   },
   "file_extension": ".py",
   "mimetype": "text/x-python",
   "name": "python",
   "nbconvert_exporter": "python",
   "pygments_lexer": "ipython3",
   "version": "3.11.3"
  }
 },
 "nbformat": 4,
 "nbformat_minor": 5
}
